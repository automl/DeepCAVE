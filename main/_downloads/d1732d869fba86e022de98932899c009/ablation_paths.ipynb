{
  "cells": [
    {
      "cell_type": "markdown",
      "metadata": {},
      "source": [
        "\n# Ablation Paths\n\nThis example shows how to use the plugin Ablation Paths.\nNote that other plugins use the same interfaces and can be used in the same fashion.\nTo use the API commands in this example, we assume the run data to be already present in the mentioned folder. Please ensure that you have the run data located at the corresponding path.\n"
      ]
    },
    {
      "cell_type": "code",
      "execution_count": null,
      "metadata": {
        "collapsed": false
      },
      "outputs": [],
      "source": [
        "from deepcave.plugins.hyperparameter.ablation_paths import AblationPaths\nfrom deepcave.runs.converters.deepcave import DeepCAVERun\nfrom pathlib import Path\n\n\nif __name__ == \"__main__\":\n    # Instantiate the run\n    run = DeepCAVERun.from_path(Path(\"logs/DeepCAVE/minimal/run_1\"))\n\n    objective_id1 = run.get_objective_ids()[0]\n    objective_id2 = None  # replace with run.get_objective_ids()[1] for multi-objective importance\n    budget_id = run.get_budget_ids()[0]\n\n    # Instantiate the plugin\n    plugin = AblationPaths()\n    inputs = plugin.generate_inputs(\n        objective_id1=objective_id1,\n        objective_id2=objective_id2,\n        budget_id=budget_id,\n        n_hps=100,\n        n_trees=100,\n        show_confidence=False,\n    )\n    # Note: Filter variables are not considered.\n    outputs = plugin.generate_outputs(run, inputs)\n\n    # Finally, you can load the figure. Here, the filter variables play a role.\n    figure1, figure2 = plugin.load_outputs(run, inputs, outputs)\n    figure1.write_image(\"examples/api/ablation_paths_performance.png\", scale=2.0)\n    if not objective_id2:\n        figure2.write_image(\"examples/api/ablation_paths_improvement.png\", scale=2.0)"
      ]
    }
  ],
  "metadata": {
    "kernelspec": {
      "display_name": "Python 3",
      "language": "python",
      "name": "python3"
    },
    "language_info": {
      "codemirror_mode": {
        "name": "ipython",
        "version": 3
      },
      "file_extension": ".py",
      "mimetype": "text/x-python",
      "name": "python",
      "nbconvert_exporter": "python",
      "pygments_lexer": "ipython3",
      "version": "3.9.23"
    }
  },
  "nbformat": 4,
  "nbformat_minor": 0
}