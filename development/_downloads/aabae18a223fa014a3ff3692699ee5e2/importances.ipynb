{
  "cells": [
    {
      "cell_type": "markdown",
      "metadata": {},
      "source": [
        "\n# Importances\n\nThis example shows how to use the plugin Importances.\nNote that other plugins use the same interfaces and can be used in the same fashion.\n"
      ]
    },
    {
      "cell_type": "code",
      "execution_count": null,
      "metadata": {
        "collapsed": false
      },
      "outputs": [],
      "source": [
        "from deepcave.plugins.hyperparameter.importances import Importances\nfrom deepcave.runs.converters.deepcave import DeepCAVERun\nfrom pathlib import Path\n\n\nif __name__ == \"__main__\":\n    # Instantiate the run\n    run = DeepCAVERun.from_path(Path(\"logs/DeepCAVE/minimal/run_2\"))\n\n    objective_id = run.get_objective_ids()[0]\n    budget_ids = run.get_budget_ids()\n\n    # Instantiate the plugin\n    plugin = Importances()\n    inputs = plugin.generate_inputs(\n        hyperparameter_names=run.configspace.get_hyperparameter_names(),\n        objective_id=objective_id,\n        budget_ids=budget_ids,\n        method=\"global\",\n        n_hps=3,\n        n_trees=10,\n    )\n    # Note: Filter variables are not considered.\n    outputs = plugin.generate_outputs(run, inputs)\n\n    # Finally, you can load the figure. Here, the filter variables play a role.\n    # Alternatively: Use the matplotlib output (`load_mpl_outputs`) if available.\n    figure = plugin.load_outputs(run, inputs, outputs)  # plotly.go figure\n    figure.write_image(\"examples/api/importances.png\", scale=2.0)\n    # figure.show()"
      ]
    }
  ],
  "metadata": {
    "kernelspec": {
      "display_name": "Python 3",
      "language": "python",
      "name": "python3"
    },
    "language_info": {
      "codemirror_mode": {
        "name": "ipython",
        "version": 3
      },
      "file_extension": ".py",
      "mimetype": "text/x-python",
      "name": "python",
      "nbconvert_exporter": "python",
      "pygments_lexer": "ipython3",
      "version": "3.9.18"
    }
  },
  "nbformat": 4,
  "nbformat_minor": 0
}