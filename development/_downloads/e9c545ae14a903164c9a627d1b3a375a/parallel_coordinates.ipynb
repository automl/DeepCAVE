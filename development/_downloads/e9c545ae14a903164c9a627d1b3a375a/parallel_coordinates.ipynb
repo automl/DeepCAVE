{
  "cells": [
    {
      "cell_type": "markdown",
      "metadata": {},
      "source": [
        "\n# Parallel Coordinates\n\nThis example shows how to use the plugin Parallel Coordinates.\nNote that other plugins use the same interfaces and can be used in the same fashion.\n"
      ]
    },
    {
      "cell_type": "code",
      "execution_count": null,
      "metadata": {
        "collapsed": false
      },
      "outputs": [],
      "source": [
        "from deepcave.plugins.objective.parallel_coordinates import ParallelCoordinates\nfrom deepcave.runs.converters.deepcave import DeepCAVERun\nfrom pathlib import Path\n\n\nif __name__ == \"__main__\":\n    # Instantiate the run\n    run = DeepCAVERun.from_path(Path(\"logs/DeepCAVE/minimal/run_2\"))\n    objective_id = run.get_objective_ids()[0]\n    budget_id = run.get_budget_ids()[-1]\n\n    # Instantiate the plugin\n    plugin = ParallelCoordinates()\n    inputs = plugin.generate_inputs(\n        hyperparameter_names=run.configspace.get_hyperparameter_names(),\n        objective_id=objective_id,\n        budget_id=budget_id,\n        show_important_only=True,\n        show_unsuccessful=False,\n        hide_hps=False,\n        n_hps=3,\n    )\n    # Note: Filter variables are not considered.\n    outputs = plugin.generate_outputs(run, inputs)\n\n    # Finally, you can load the figure. Here, the filter variables play a role.\n    # Alternatively: Use the matplotlib output (`load_mpl_outputs`) if available.\n    figure = plugin.load_outputs(run, inputs, outputs)  # plotly.go figure\n    figure.write_image(\"examples/api/parallel_coordinates.png\", scale=2.0)\n    # figure.show()"
      ]
    }
  ],
  "metadata": {
    "kernelspec": {
      "display_name": "Python 3",
      "language": "python",
      "name": "python3"
    },
    "language_info": {
      "codemirror_mode": {
        "name": "ipython",
        "version": 3
      },
      "file_extension": ".py",
      "mimetype": "text/x-python",
      "name": "python",
      "nbconvert_exporter": "python",
      "pygments_lexer": "ipython3",
      "version": "3.9.18"
    }
  },
  "nbformat": 4,
  "nbformat_minor": 0
}