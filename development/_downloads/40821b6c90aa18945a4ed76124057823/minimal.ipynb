{
  "cells": [
    {
      "cell_type": "markdown",
      "metadata": {},
      "source": [
        "\n# Record Minimal Run\n\nThis example shows how DeepCAVE can be used to record a minimal run.\n"
      ]
    },
    {
      "cell_type": "code",
      "execution_count": null,
      "metadata": {
        "collapsed": false
      },
      "outputs": [],
      "source": [
        "import numpy as np\nimport ConfigSpace as CS\nfrom deepcave import Recorder, Objective\n\n\nconfigspace = CS.ConfigurationSpace(seed=0)\nalpha = CS.hyperparameters.UniformFloatHyperparameter(name=\"alpha\", lower=0, upper=1)\nbeta = CS.hyperparameters.Constant(name=\"beta\", value=1)\n\nconfigspace.add_hyperparameters([alpha, beta])\n\naccuracy = Objective(\"accuracy\", lower=0, upper=1, optimize=\"upper\")\ntime = Objective(\"time\")\nsave_path = \"logs/DeepCAVE/minimal\"\n\nwith Recorder(configspace, objectives=[accuracy, time], save_path=save_path) as r:\n    for config in configspace.sample_configuration(100):\n        for budget in [20, 40, 60]:\n            r.start(config, budget)\n\n            # Your code goes here\n            accuracy = np.random.uniform(low=0.0, high=1.0, size=None)\n\n            r.end(costs=[accuracy, None])"
      ]
    }
  ],
  "metadata": {
    "kernelspec": {
      "display_name": "Python 3",
      "language": "python",
      "name": "python3"
    },
    "language_info": {
      "codemirror_mode": {
        "name": "ipython",
        "version": 3
      },
      "file_extension": ".py",
      "mimetype": "text/x-python",
      "name": "python",
      "nbconvert_exporter": "python",
      "pygments_lexer": "ipython3",
      "version": "3.9.18"
    }
  },
  "nbformat": 4,
  "nbformat_minor": 0
}